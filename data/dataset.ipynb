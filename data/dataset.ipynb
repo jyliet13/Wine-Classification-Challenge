{
 "cells": [
  {
   "cell_type": "code",
   "id": "initial_id",
   "metadata": {
    "collapsed": true,
    "ExecuteTime": {
     "end_time": "2025-02-18T11:59:45.945190Z",
     "start_time": "2025-02-18T11:59:45.937991Z"
    }
   },
   "source": [
    "import pandas as pd\n",
    "\n",
    "column_names = [ 'Class','Alcohol', 'Malic acid', 'Ash', 'Alcalinity', 'Magnesium', 'Total phenols', 'Flavanoids', 'Nonflavanoid phenols', 'Proanthocyanins', 'Color intensity', 'Hue', 'OD280/OD315 of diluted wines', 'Proline']"
   ],
   "outputs": [],
   "execution_count": 11
  },
  {
   "metadata": {
    "ExecuteTime": {
     "end_time": "2025-02-18T11:59:48.524292Z",
     "start_time": "2025-02-18T11:59:48.515595Z"
    }
   },
   "cell_type": "code",
   "source": "data = pd.read_csv('wine/wine.data', names=column_names)",
   "id": "b4b60838c4181650",
   "outputs": [],
   "execution_count": 12
  },
  {
   "metadata": {
    "ExecuteTime": {
     "end_time": "2025-02-18T11:59:50.574269Z",
     "start_time": "2025-02-18T11:59:50.562643Z"
    }
   },
   "cell_type": "code",
   "source": "print(data.head(100))",
   "id": "a8639044c13b6fb2",
   "outputs": [
    {
     "name": "stdout",
     "output_type": "stream",
     "text": [
      "    Class  Alcohol  Malic acid   Ash  Alcalinity  Magnesium  Total phenols  \\\n",
      "0       1    14.23        1.71  2.43        15.6        127           2.80   \n",
      "1       1    13.20        1.78  2.14        11.2        100           2.65   \n",
      "2       1    13.16        2.36  2.67        18.6        101           2.80   \n",
      "3       1    14.37        1.95  2.50        16.8        113           3.85   \n",
      "4       1    13.24        2.59  2.87        21.0        118           2.80   \n",
      "..    ...      ...         ...   ...         ...        ...            ...   \n",
      "95      2    12.47        1.52  2.20        19.0        162           2.50   \n",
      "96      2    11.81        2.12  2.74        21.5        134           1.60   \n",
      "97      2    12.29        1.41  1.98        16.0         85           2.55   \n",
      "98      2    12.37        1.07  2.10        18.5         88           3.52   \n",
      "99      2    12.29        3.17  2.21        18.0         88           2.85   \n",
      "\n",
      "    Flavanoids  Nonflavanoid phenols  Proanthocyanins  Color intensity   Hue  \\\n",
      "0         3.06                  0.28             2.29             5.64  1.04   \n",
      "1         2.76                  0.26             1.28             4.38  1.05   \n",
      "2         3.24                  0.30             2.81             5.68  1.03   \n",
      "3         3.49                  0.24             2.18             7.80  0.86   \n",
      "4         2.69                  0.39             1.82             4.32  1.04   \n",
      "..         ...                   ...              ...              ...   ...   \n",
      "95        2.27                  0.32             3.28             2.60  1.16   \n",
      "96        0.99                  0.14             1.56             2.50  0.95   \n",
      "97        2.50                  0.29             1.77             2.90  1.23   \n",
      "98        3.75                  0.24             1.95             4.50  1.04   \n",
      "99        2.99                  0.45             2.81             2.30  1.42   \n",
      "\n",
      "    OD280/OD315 of diluted wines  Proline  \n",
      "0                           3.92     1065  \n",
      "1                           3.40     1050  \n",
      "2                           3.17     1185  \n",
      "3                           3.45     1480  \n",
      "4                           2.93      735  \n",
      "..                           ...      ...  \n",
      "95                          2.63      937  \n",
      "96                          2.26      625  \n",
      "97                          2.74      428  \n",
      "98                          2.77      660  \n",
      "99                          2.83      406  \n",
      "\n",
      "[100 rows x 14 columns]\n"
     ]
    }
   ],
   "execution_count": 13
  },
  {
   "metadata": {
    "ExecuteTime": {
     "end_time": "2025-02-18T12:00:07.730846Z",
     "start_time": "2025-02-18T12:00:07.720418Z"
    }
   },
   "cell_type": "code",
   "source": [
    "df = pd.DataFrame(data)\n",
    "df.to_csv('data.csv', index=False)"
   ],
   "id": "701f437fcd446b9f",
   "outputs": [],
   "execution_count": 15
  }
 ],
 "metadata": {
  "kernelspec": {
   "display_name": "Python 3",
   "language": "python",
   "name": "python3"
  },
  "language_info": {
   "codemirror_mode": {
    "name": "ipython",
    "version": 2
   },
   "file_extension": ".py",
   "mimetype": "text/x-python",
   "name": "python",
   "nbconvert_exporter": "python",
   "pygments_lexer": "ipython2",
   "version": "2.7.6"
  }
 },
 "nbformat": 4,
 "nbformat_minor": 5
}
